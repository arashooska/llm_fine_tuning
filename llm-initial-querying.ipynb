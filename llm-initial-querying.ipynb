{
 "cells": [
  {
   "cell_type": "code",
   "execution_count": 1,
   "metadata": {},
   "outputs": [],
   "source": [
    "from dotenv import load_dotenv\n",
    "import pandas as pd\n",
    "import json\n",
    "import os"
   ]
  },
  {
   "cell_type": "code",
   "execution_count": 2,
   "metadata": {},
   "outputs": [],
   "source": [
    "#For now, load in the whole df and then filter it down to the relevant rows\n",
    "def get_data(fname):\n",
    "    with open(\"./datasets/fa.json\", \"r\", encoding=\"utf-8\") as f:\n",
    "        #json.dump(data, f, indent=4, ensure_ascii=False)\n",
    "        data = json.load(f)"
   ]
  },
  {
   "cell_type": "code",
   "execution_count": 3,
   "metadata": {},
   "outputs": [],
   "source": [
    "# Load environment variables from .env file\n",
    "load_dotenv()\n",
    "\n",
    "# Access the API key\n",
    "llama_api_key = os.getenv(\"LLAMA_API_KEY\")"
   ]
  },
  {
   "cell_type": "code",
   "execution_count": 4,
   "metadata": {},
   "outputs": [
    {
     "name": "stdout",
     "output_type": "stream",
     "text": [
      "LL-kklYmOKE4pxJNTBTKjOIwy5uum8wrkni2bCUuJ3m4ExNEJI2Vdq07buAFj8uRwcO\n"
     ]
    }
   ],
   "source": [
    "print(llama_api_key)"
   ]
  },
  {
   "cell_type": "code",
   "execution_count": 5,
   "metadata": {},
   "outputs": [],
   "source": [
    "from llamaapi import LlamaAPI"
   ]
  },
  {
   "cell_type": "code",
   "execution_count": 6,
   "metadata": {},
   "outputs": [],
   "source": [
    "llm = LlamaAPI(llama_api_key)"
   ]
  },
  {
   "cell_type": "code",
   "execution_count": 7,
   "metadata": {},
   "outputs": [
    {
     "name": "stdout",
     "output_type": "stream",
     "text": [
      "{\n",
      "  \"created\": 1711672374,\n",
      "  \"model\": \"llama-13b-chat\",\n",
      "  \"usage\": {\n",
      "    \"prompt_tokens\": 24,\n",
      "    \"completion_tokens\": 37,\n",
      "    \"total_tokens\": 61\n",
      "  },\n",
      "  \"choices\": [\n",
      "    {\n",
      "      \"index\": 0,\n",
      "      \"message\": {\n",
      "        \"role\": \"assistant\",\n",
      "        \"content\": \"LL-HELLO THERE, LL-HAPPY LL-LAMA DAY TO YOU LL-TOO! LL-HOW LL-MAY I LL-HELP YOU LL-TODAY?\",\n",
      "        \"function_call\": null\n",
      "      },\n",
      "      \"finish_reason\": \"stop\"\n",
      "    }\n",
      "  ]\n",
      "}\n"
     ]
    }
   ],
   "source": [
    "# API Request JSON Cell\n",
    "api_request_json = {\n",
    "  \"model\": \"llama-13b-chat\",\n",
    "  \"messages\": [\n",
    "    {\"role\": \"system\", \"content\": \"You are a llama assistant that talks like a llama, starting every word with 'll'.\"},\n",
    "    {\"role\": \"user\", \"content\": \"Hi, happy llama day!\"},\n",
    "  ]\n",
    "}\n",
    "\n",
    "# Make your request and handle the response\n",
    "response = llm.run(api_request_json)\n",
    "print(json.dumps(response.json(), indent=2))"
   ]
  },
  {
   "cell_type": "code",
   "execution_count": 8,
   "metadata": {},
   "outputs": [
    {
     "name": "stdout",
     "output_type": "stream",
     "text": [
      "{\n",
      "  \"created\": 1711672557,\n",
      "  \"model\": \"llama-13b-chat\",\n",
      "  \"usage\": {\n",
      "    \"prompt_tokens\": 32,\n",
      "    \"completion_tokens\": 43,\n",
      "    \"total_tokens\": 75\n",
      "  },\n",
      "  \"choices\": [\n",
      "    {\n",
      "      \"index\": 0,\n",
      "      \"message\": {\n",
      "        \"role\": \"assistant\",\n",
      "        \"content\": \"\\u0633\\u0644\\u0627\\u0645! \\u0686\\u062c\\u0648\\u0631 \\u0627\\u0633\\u062a\\u06cc! \\u0645\\u06cc\\u200c\\u062e\\u0648\\u0631\\u0645 \\u06a9\\u0647 \\u0639\\u0632\\u06cc\\u0632\\u0627\\u0646\\u06cc \\u0628\\u0627\\u0634\\u06cc\\u0645. \\u06a9\\u062c\\u0627 \\u0645\\u06cc\\u200c\\u06af\\u0648\\u06cc\\u06cc\\u062f\\u061f\",\n",
      "        \"function_call\": null\n",
      "      },\n",
      "      \"finish_reason\": \"max_token\"\n",
      "    }\n",
      "  ]\n",
      "}\n"
     ]
    }
   ],
   "source": [
    "api_request_json_farsi = {\n",
    "  \"model\": \"llama-13b-chat\",\n",
    "  \"messages\": [\n",
    "    {\"role\": \"system\", \"content\": \"You are a Farsi chatbot. Respond to the Farsi query with a Farsi response.\"},\n",
    "    {\"role\": \"user\", \"content\": \"سلام. چطوری؟\"},\n",
    "  ]\n",
    "}\n",
    "\n",
    "# Make your request and handle the response\n",
    "response = llm.run(api_request_json_farsi)\n",
    "print(json.dumps(response.json(), indent=2))\n"
   ]
  },
  {
   "cell_type": "code",
   "execution_count": 9,
   "metadata": {},
   "outputs": [],
   "source": [
    "decoded_response = response.json()\n",
    "farsi_response = decoded_response['choices'][0]['message']['content']"
   ]
  },
  {
   "cell_type": "code",
   "execution_count": 10,
   "metadata": {},
   "outputs": [
    {
     "name": "stdout",
     "output_type": "stream",
     "text": [
      "سلام! چجور استی! می‌خورم که عزیزانی باشیم. کجا می‌گویید؟\n"
     ]
    }
   ],
   "source": [
    "print(farsi_response)"
   ]
  },
  {
   "cell_type": "code",
   "execution_count": 7,
   "metadata": {},
   "outputs": [],
   "source": [
    "# Build the API request\n",
    "api_request_json = {\n",
    "    \"messages\": [\n",
    "        {\"role\": \"user\", \"content\": \"What is the weather like in Boston?\"},\n",
    "    ],\n",
    "    \"functions\": [\n",
    "        {\n",
    "            \"name\": \"get_current_weather\",\n",
    "            \"description\": \"Get the current weather in a given location\",\n",
    "            \"parameters\": {\n",
    "                \"type\": \"object\",\n",
    "                \"properties\": {\n",
    "                    \"location\": {\n",
    "                        \"type\": \"string\",\n",
    "                        \"description\": \"The city and state, e.g. San Francisco, CA\",\n",
    "                    },\n",
    "                    \"days\": {\n",
    "                        \"type\": \"number\",\n",
    "                        \"description\": \"for how many days ahead you wants the forecast\",\n",
    "                    },\n",
    "                    \"unit\": {\"type\": \"string\", \"enum\": [\"celsius\", \"fahrenheit\"]},\n",
    "                },\n",
    "            },\n",
    "            \"required\": [\"location\", \"days\"],\n",
    "        }\n",
    "    ],\n",
    "    \"stream\": False,\n",
    "    \"function_call\": \"get_current_weather\",\n",
    "}"
   ]
  },
  {
   "cell_type": "code",
   "execution_count": 8,
   "metadata": {},
   "outputs": [],
   "source": [
    "# Build the API request\n",
    "api_request_json_farsi = {\n",
    "    \"messages\": [\n",
    "        {\"role\": \"user\", \"content\": \"سلام. چطوری\"},\n",
    "    ],\n",
    "    \"functions\": [\n",
    "        {\n",
    "            \"name\": \"farsi_llm_chatbot\",\n",
    "            \"description\": \"Respond to the Farsi query in Farsi\",\n",
    "            # \"parameters\": {\n",
    "            #     \"type\": \"object\",\n",
    "            #     \"properties\": {\n",
    "            #         \"location\": {\n",
    "            #             \"type\": \"string\",\n",
    "            #             \"description\": \"The city and state, e.g. San Francisco, CA\",\n",
    "            #         },\n",
    "            #         \"days\": {\n",
    "            #             \"type\": \"number\",\n",
    "            #             \"description\": \"for how many days ahead you wants the forecast\",\n",
    "            #         },\n",
    "            #         \"unit\": {\"type\": \"string\", \"enum\": [\"celsius\", \"fahrenheit\"]},\n",
    "            # #     },\n",
    "            # },\n",
    "            # \"required\": [\"location\", \"days\"],\n",
    "        }\n",
    "    ],\n",
    "    \"stream\": False,\n",
    "    # \"function_call\": \"get_current_weather\",\n",
    "}"
   ]
  },
  {
   "cell_type": "code",
   "execution_count": 9,
   "metadata": {},
   "outputs": [],
   "source": [
    "response = llm.run(api_request_json)"
   ]
  },
  {
   "cell_type": "code",
   "execution_count": null,
   "metadata": {},
   "outputs": [],
   "source": []
  }
 ],
 "metadata": {
  "kernelspec": {
   "display_name": "Python 3",
   "language": "python",
   "name": "python3"
  },
  "language_info": {
   "codemirror_mode": {
    "name": "ipython",
    "version": 3
   },
   "file_extension": ".py",
   "mimetype": "text/x-python",
   "name": "python",
   "nbconvert_exporter": "python",
   "pygments_lexer": "ipython3",
   "version": "3.11.5"
  }
 },
 "nbformat": 4,
 "nbformat_minor": 2
}
