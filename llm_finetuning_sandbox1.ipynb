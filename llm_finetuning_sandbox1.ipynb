{
 "cells": [
  {
   "cell_type": "code",
   "execution_count": 1,
   "metadata": {},
   "outputs": [],
   "source": [
    "#Farsi LLM Fine Tuning sandbox\n",
    "\n",
    "import pandas as pd\n",
    "import numpy as np\n"
   ]
  },
  {
   "cell_type": "code",
   "execution_count": 2,
   "metadata": {},
   "outputs": [],
   "source": [
    "tansim_df = pd.read_csv('datasets/tansim.csv')"
   ]
  },
  {
   "cell_type": "code",
   "execution_count": 3,
   "metadata": {},
   "outputs": [
    {
     "data": {
      "text/html": [
       "<div>\n",
       "<style scoped>\n",
       "    .dataframe tbody tr th:only-of-type {\n",
       "        vertical-align: middle;\n",
       "    }\n",
       "\n",
       "    .dataframe tbody tr th {\n",
       "        vertical-align: top;\n",
       "    }\n",
       "\n",
       "    .dataframe thead th {\n",
       "        text-align: right;\n",
       "    }\n",
       "</style>\n",
       "<table border=\"1\" class=\"dataframe\">\n",
       "  <thead>\n",
       "    <tr style=\"text-align: right;\">\n",
       "      <th></th>\n",
       "      <th>category</th>\n",
       "      <th>title</th>\n",
       "      <th>abstract</th>\n",
       "      <th>body</th>\n",
       "      <th>time</th>\n",
       "    </tr>\n",
       "  </thead>\n",
       "  <tbody>\n",
       "    <tr>\n",
       "      <th>0</th>\n",
       "      <td>سیاسی</td>\n",
       "      <td>میرکاظمی: زمان حذف ارز ۴۲۰۰ تومانی مشخص نیست</td>\n",
       "      <td>رئیس سازمان برنامه و بودجه گفت: هر زمان شرایط...</td>\n",
       "      <td>به گزارش گروه پارلمانی  ، «مسعود میرکاظمی» رئی...</td>\n",
       "      <td>۲۴ فروردين ۱۴۰۱ - ۰۹:۵۰</td>\n",
       "    </tr>\n",
       "    <tr>\n",
       "      <th>1</th>\n",
       "      <td>سیاسی</td>\n",
       "      <td>طرح ۲ فوریتی شفافیت قوای سه‌گانه با ۲۰۰ امضا ...</td>\n",
       "      <td>نماینده نیشابور در مجلس از ارائه طرح ۲ فوریتی...</td>\n",
       "      <td>احسان ارکانی نماینده مردم نیشابور در مجلس شورا...</td>\n",
       "      <td>۲۴ فروردين ۱۴۰۱ - ۰۹:۵۰</td>\n",
       "    </tr>\n",
       "    <tr>\n",
       "      <th>2</th>\n",
       "      <td>سیاسی</td>\n",
       "      <td>رئیسی انتخاب نخست وزیر جدید پاکستان را تبریک ...</td>\n",
       "      <td>رئیس جمهور کشورمان طی پیامی انتخاب نخست وزیر ...</td>\n",
       "      <td>به گزارش حوزه دولت  ، آیت‌الله سید ابراهیم رئی...</td>\n",
       "      <td>۲۵ فروردين ۱۴۰۱ - ۱۳:۵۴</td>\n",
       "    </tr>\n",
       "    <tr>\n",
       "      <th>3</th>\n",
       "      <td>سیاسی</td>\n",
       "      <td>اصلاح اساسنامه شرکت شهر فرودگاهی امام خمینی (...</td>\n",
       "      <td>اساسنامه شرکت شهر فرودگاهی امام خمینی(ره) در ...</td>\n",
       "      <td>به گزارش حوزه دولت  ، در جلسه صبح روز چهارشنبه...</td>\n",
       "      <td>۳۱ فروردين ۱۴۰۱ - ۱۲:۰۳</td>\n",
       "    </tr>\n",
       "    <tr>\n",
       "      <th>4</th>\n",
       "      <td>سیاسی</td>\n",
       "      <td>ارائه طرحی کلی و مبهم برای شفافیت فرار از مطا...</td>\n",
       "      <td>نماینده مردم تهران گفت: در شرایطی که طرح شفاف...</td>\n",
       "      <td>علی خضریان نماینده تهران در مجلس در گفت‌وگو با...</td>\n",
       "      <td>۳۰ فروردين ۱۴۰۱ - ۱۶:۱۵</td>\n",
       "    </tr>\n",
       "    <tr>\n",
       "      <th>...</th>\n",
       "      <td>...</td>\n",
       "      <td>...</td>\n",
       "      <td>...</td>\n",
       "      <td>...</td>\n",
       "      <td>...</td>\n",
       "    </tr>\n",
       "    <tr>\n",
       "      <th>63489</th>\n",
       "      <td>رسانه ها</td>\n",
       "      <td>پشیمانی به سبک سلبریتی‌ها</td>\n",
       "      <td>گروه‌های زیادی از هنرمندان در فضای شخصی خود پ...</td>\n",
       "      <td>به گزارش گروه رسانه های  ، چند روزی از تقدیم ل...</td>\n",
       "      <td>۲۲ آذر ۱۳۹۶ - ۰۸:۵۳</td>\n",
       "    </tr>\n",
       "    <tr>\n",
       "      <th>63490</th>\n",
       "      <td>رسانه ها</td>\n",
       "      <td>نسبت اصلاح طلبان با اخلاق، عدالت و آزادی!</td>\n",
       "      <td>اصلاح طلبان چه می کنند، حال و روزشان چیست؟ اد...</td>\n",
       "      <td>به گزارش گروه رسانه های  ، اصلاح طلبان چه می ک...</td>\n",
       "      <td>۲۲ آذر ۱۳۹۶ - ۰۶:۴۲</td>\n",
       "    </tr>\n",
       "    <tr>\n",
       "      <th>63491</th>\n",
       "      <td>رسانه ها</td>\n",
       "      <td>چرا رژیم صهیونیستی بعد از ۲۵ سال نابود می‌شود؟</td>\n",
       "      <td>گسترش افراط گرایی ارتدکس در ساختار سیاسی و اج...</td>\n",
       "      <td>به گزارش گروه رسانه های  ، خبری که در روزهای ا...</td>\n",
       "      <td>۲۳ آذر ۱۳۹۶ - ۱۲:۵۰</td>\n",
       "    </tr>\n",
       "    <tr>\n",
       "      <th>63492</th>\n",
       "      <td>رسانه ها</td>\n",
       "      <td>تصاویر صفحه روزنامه‌های چهارشنبه ۲۲ آذر</td>\n",
       "      <td>منتخب تصاویر صفحات نخست روزنامه‌های چهارشنبه ...</td>\n",
       "      <td>به گزارش گروه رسانه‌های  ، تصاویر صفحات نخست ر...</td>\n",
       "      <td>۲۲ آذر ۱۳۹۶ - ۰۵:۴۹</td>\n",
       "    </tr>\n",
       "    <tr>\n",
       "      <th>63493</th>\n",
       "      <td>رسانه ها</td>\n",
       "      <td>چرا مسلمانان حق دارند عکس خادمین الحرمین را آ...</td>\n",
       "      <td>کار به جایی رسیده که حتی رسانه‌های رژیم صهیون...</td>\n",
       "      <td>به گزارش گروه رسانه های  ، چند روز قبل بود که ...</td>\n",
       "      <td>۲۲ آذر ۱۳۹۶ - ۱۱:۵۴</td>\n",
       "    </tr>\n",
       "  </tbody>\n",
       "</table>\n",
       "<p>63494 rows × 5 columns</p>\n",
       "</div>"
      ],
      "text/plain": [
       "       category                                              title  \\\n",
       "0         سیاسی      میرکاظمی: زمان حذف ارز ۴۲۰۰ تومانی مشخص نیست    \n",
       "1         سیاسی   طرح ۲ فوریتی شفافیت قوای سه‌گانه با ۲۰۰ امضا ...   \n",
       "2         سیاسی   رئیسی انتخاب نخست وزیر جدید پاکستان را تبریک ...   \n",
       "3         سیاسی   اصلاح اساسنامه شرکت شهر فرودگاهی امام خمینی (...   \n",
       "4         سیاسی   ارائه طرحی کلی و مبهم برای شفافیت فرار از مطا...   \n",
       "...         ...                                                ...   \n",
       "63489  رسانه ها                         پشیمانی به سبک سلبریتی‌ها    \n",
       "63490  رسانه ها         نسبت اصلاح طلبان با اخلاق، عدالت و آزادی!    \n",
       "63491  رسانه ها    چرا رژیم صهیونیستی بعد از ۲۵ سال نابود می‌شود؟    \n",
       "63492  رسانه ها           تصاویر صفحه روزنامه‌های چهارشنبه ۲۲ آذر    \n",
       "63493  رسانه ها   چرا مسلمانان حق دارند عکس خادمین الحرمین را آ...   \n",
       "\n",
       "                                                abstract  \\\n",
       "0       رئیس سازمان برنامه و بودجه گفت: هر زمان شرایط...   \n",
       "1       نماینده نیشابور در مجلس از ارائه طرح ۲ فوریتی...   \n",
       "2       رئیس جمهور کشورمان طی پیامی انتخاب نخست وزیر ...   \n",
       "3       اساسنامه شرکت شهر فرودگاهی امام خمینی(ره) در ...   \n",
       "4       نماینده مردم تهران گفت: در شرایطی که طرح شفاف...   \n",
       "...                                                  ...   \n",
       "63489   گروه‌های زیادی از هنرمندان در فضای شخصی خود پ...   \n",
       "63490   اصلاح طلبان چه می کنند، حال و روزشان چیست؟ اد...   \n",
       "63491   گسترش افراط گرایی ارتدکس در ساختار سیاسی و اج...   \n",
       "63492   منتخب تصاویر صفحات نخست روزنامه‌های چهارشنبه ...   \n",
       "63493   کار به جایی رسیده که حتی رسانه‌های رژیم صهیون...   \n",
       "\n",
       "                                                    body  \\\n",
       "0      به گزارش گروه پارلمانی  ، «مسعود میرکاظمی» رئی...   \n",
       "1      احسان ارکانی نماینده مردم نیشابور در مجلس شورا...   \n",
       "2      به گزارش حوزه دولت  ، آیت‌الله سید ابراهیم رئی...   \n",
       "3      به گزارش حوزه دولت  ، در جلسه صبح روز چهارشنبه...   \n",
       "4      علی خضریان نماینده تهران در مجلس در گفت‌وگو با...   \n",
       "...                                                  ...   \n",
       "63489  به گزارش گروه رسانه های  ، چند روزی از تقدیم ل...   \n",
       "63490  به گزارش گروه رسانه های  ، اصلاح طلبان چه می ک...   \n",
       "63491  به گزارش گروه رسانه های  ، خبری که در روزهای ا...   \n",
       "63492  به گزارش گروه رسانه‌های  ، تصاویر صفحات نخست ر...   \n",
       "63493  به گزارش گروه رسانه های  ، چند روز قبل بود که ...   \n",
       "\n",
       "                             time  \n",
       "0        ۲۴ فروردين ۱۴۰۱ - ۰۹:۵۰   \n",
       "1        ۲۴ فروردين ۱۴۰۱ - ۰۹:۵۰   \n",
       "2        ۲۵ فروردين ۱۴۰۱ - ۱۳:۵۴   \n",
       "3        ۳۱ فروردين ۱۴۰۱ - ۱۲:۰۳   \n",
       "4        ۳۰ فروردين ۱۴۰۱ - ۱۶:۱۵   \n",
       "...                           ...  \n",
       "63489        ۲۲ آذر ۱۳۹۶ - ۰۸:۵۳   \n",
       "63490        ۲۲ آذر ۱۳۹۶ - ۰۶:۴۲   \n",
       "63491        ۲۳ آذر ۱۳۹۶ - ۱۲:۵۰   \n",
       "63492        ۲۲ آذر ۱۳۹۶ - ۰۵:۴۹   \n",
       "63493        ۲۲ آذر ۱۳۹۶ - ۱۱:۵۴   \n",
       "\n",
       "[63494 rows x 5 columns]"
      ]
     },
     "execution_count": 3,
     "metadata": {},
     "output_type": "execute_result"
    }
   ],
   "source": [
    "tansim_df"
   ]
  },
  {
   "cell_type": "code",
   "execution_count": 5,
   "metadata": {},
   "outputs": [
    {
     "name": "stdout",
     "output_type": "stream",
     "text": [
      "Number of null entries in the dataset: category      0\n",
      "title         1\n",
      "abstract      1\n",
      "body        936\n",
      "time          1\n",
      "dtype: int64\n"
     ]
    }
   ],
   "source": [
    "print(f\"Number of null entries in the dataset: {tansim_df.isnull().sum()}\")"
   ]
  },
  {
   "cell_type": "code",
   "execution_count": 8,
   "metadata": {},
   "outputs": [
    {
     "name": "stdout",
     "output_type": "stream",
     "text": [
      "به گزارش گروه پارلمانی  ، «مسعود میرکاظمی» رئیس سازمان برنامه و بودجه، در پاسخ به سؤالی مبنی بر اینکه دولت از چه زمانی اقدام به حذف ارز 4200 تومانی خواهد کرد، گفت: براساس قانون بودجه سال 1401، اختیار حذف و یا عدم حذف ارز ترجیحی برعهده دولت قرار داده شده است و از سوی دیگر حجم ارز 4200 تومانی در کشور به میزانی نیست که بتوان تا پایان سال از آن استفاده کرد. وی که با خانه ملت گفت‌وگو کرده است ادامه داد: بنابراین هر زمان شرایط و فضای اقتصادی کشور مساعد باشد، می‌توان به تدریج این موضوع را عملیاتی کرد و در حال حاضر برای حذف ارز ترجیحی زمان و تاریخ مشخصی را نمی‌توان تعیین کرد. رئیس سازمان برنامه و بودجه در پاسخ به سؤال دیگری مبنی بر اینکه چرا با توجه به اینکه هنوز ارز ترجیحی حذف نشده است، شاهد افزایش قیمت کالاها به ویژه در مورد گوشت قرمز و مرغ در کشور هستیم، اظهار کرد: قیمت‌ها روی نرخ گوشت قرمز و مرغ تغییری نکرده است؛ برخی هزینه‌ها و قیمت تمام شده مواد غذایی به نرخ مواد اولیه بستگی ندارد و عوامل دیگری نیز در این میان مؤثر هستند و برای این تأثیرات باید یارانه پرداخت شود و یا اجازه داد قیمت‌ها اصلاح شود. انتهای پیام/؛\n"
     ]
    }
   ],
   "source": [
    "#print first row in full\n",
    "print(tansim_df.iloc[0][\"body\"])"
   ]
  },
  {
   "cell_type": "code",
   "execution_count": 11,
   "metadata": {},
   "outputs": [
    {
     "data": {
      "text/plain": [
       "'\\nAccording to parliamentary group, Massoud Mirkami, head of the Plan and Budget Organization, responded to a question of when the government will remove the currency of 4200 Toman, saying: Under the Budget Act of 1401, the government has been placed the authority to remove or not remove the preferred currency and on the other hand, the volume of the currency of 4200 USD in the country is not the level that can be used by the end of the year. He who spoke with the nation’s home continued: Therefore, whenever the country’s economic conditions and space are favorable, it can be gradually operational and currently cannot be determined to remove the preferred currency of a specific time and date. The Program and Budget Organization Chairman, in response to another question of why, given that the preferred currency has not yet been removed, we see a rise in the price of commodities, especially in the case of red meat and poultry in the country, said: Prices have not changed on red meat and chicken rates; some cost and cost of food do not depend on the rate of raw materials, and other factors are effective, and for these effects, subsidies must be paid or allow prices to be modified. End of Message/;\\n'"
      ]
     },
     "execution_count": 11,
     "metadata": {},
     "output_type": "execute_result"
    }
   ],
   "source": [
    "###Translation is \n",
    "\"\"\"\n",
    "According to parliamentary group, Massoud Mirkami, head of the Plan and Budget Organization, responded to a question of when the government will remove the currency of 4200 Toman, saying: Under the Budget Act of 1401, the government has been placed the authority to remove or not remove the preferred currency and on the other hand, the volume of the currency of 4200 USD in the country is not the level that can be used by the end of the year. He who spoke with the nation’s home continued: Therefore, whenever the country’s economic conditions and space are favorable, it can be gradually operational and currently cannot be determined to remove the preferred currency of a specific time and date. The Program and Budget Organization Chairman, in response to another question of why, given that the preferred currency has not yet been removed, we see a rise in the price of commodities, especially in the case of red meat and poultry in the country, said: Prices have not changed on red meat and chicken rates; some cost and cost of food do not depend on the rate of raw materials, and other factors are effective, and for these effects, subsidies must be paid or allow prices to be modified. End of Message/;\n",
    "\"\"\""
   ]
  },
  {
   "cell_type": "code",
   "execution_count": 12,
   "metadata": {},
   "outputs": [
    {
     "name": "stdout",
     "output_type": "stream",
     "text": [
      " میرکاظمی: زمان حذف ارز ۴۲۰۰ تومانی مشخص نیست \n"
     ]
    }
   ],
   "source": [
    "print(tansim_df.iloc[0][\"title\"])"
   ]
  },
  {
   "cell_type": "code",
   "execution_count": 13,
   "metadata": {},
   "outputs": [],
   "source": [
    "#Translation (seems to be wrong)\n",
    "\"\"\"\n",
    "Mirkami: The time of removal of currency is not known\n",
    "\"\"\""
   ]
  },
  {
   "cell_type": "code",
   "execution_count": null,
   "metadata": {},
   "outputs": [],
   "source": []
  },
  {
   "cell_type": "code",
   "execution_count": null,
   "metadata": {},
   "outputs": [],
   "source": []
  }
 ],
 "metadata": {
  "kernelspec": {
   "display_name": "Python 3 (ipykernel)",
   "language": "python",
   "name": "python3"
  },
  "language_info": {
   "codemirror_mode": {
    "name": "ipython",
    "version": 3
   },
   "file_extension": ".py",
   "mimetype": "text/x-python",
   "name": "python",
   "nbconvert_exporter": "python",
   "pygments_lexer": "ipython3",
   "version": "3.11.5"
  }
 },
 "nbformat": 4,
 "nbformat_minor": 4
}
