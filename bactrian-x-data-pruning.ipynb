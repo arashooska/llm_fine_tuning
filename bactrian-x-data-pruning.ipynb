{
 "cells": [
  {
   "cell_type": "code",
   "execution_count": 2,
   "metadata": {},
   "outputs": [],
   "source": [
    "import json"
   ]
  },
  {
   "cell_type": "code",
   "execution_count": 8,
   "metadata": {},
   "outputs": [],
   "source": [
    "data = {\"0\": [{\"60357\": \"این یک پیام است\"}]}\n",
    "\n",
    "with open(\"./datasets/fa.json\", \"r\", encoding=\"utf-8\") as f:\n",
    "    #json.dump(data, f, indent=4, ensure_ascii=False)\n",
    "    data = json.load(f)\n"
   ]
  },
  {
   "cell_type": "code",
   "execution_count": 10,
   "metadata": {},
   "outputs": [],
   "source": [
    "import pandas as pd\n",
    "\n",
    "df = pd.DataFrame(data)"
   ]
  },
  {
   "cell_type": "code",
   "execution_count": 11,
   "metadata": {},
   "outputs": [
    {
     "data": {
      "text/html": [
       "<div>\n",
       "<style scoped>\n",
       "    .dataframe tbody tr th:only-of-type {\n",
       "        vertical-align: middle;\n",
       "    }\n",
       "\n",
       "    .dataframe tbody tr th {\n",
       "        vertical-align: top;\n",
       "    }\n",
       "\n",
       "    .dataframe thead th {\n",
       "        text-align: right;\n",
       "    }\n",
       "</style>\n",
       "<table border=\"1\" class=\"dataframe\">\n",
       "  <thead>\n",
       "    <tr style=\"text-align: right;\">\n",
       "      <th></th>\n",
       "      <th>instruction</th>\n",
       "      <th>input</th>\n",
       "      <th>id</th>\n",
       "      <th>output</th>\n",
       "    </tr>\n",
       "  </thead>\n",
       "  <tbody>\n",
       "    <tr>\n",
       "      <th>0</th>\n",
       "      <td>مشخص کنید که کدام ساز زهی یا بادی چوبی است: بی...</td>\n",
       "      <td></td>\n",
       "      <td>dolly-14547</td>\n",
       "      <td>بیس ترمولو یک ساز زهی است در حالی که راکت یک س...</td>\n",
       "    </tr>\n",
       "    <tr>\n",
       "      <th>1</th>\n",
       "      <td>رابوسراس چیست؟</td>\n",
       "      <td>Rhaeboceras یک سرده منقرض شده از آمونیت متعلق ...</td>\n",
       "      <td>dolly-14548</td>\n",
       "      <td>هیچ چیزی دربارهٔ رابوسراس در متن وجود ندارد و ...</td>\n",
       "    </tr>\n",
       "    <tr>\n",
       "      <th>2</th>\n",
       "      <td>معنی کمپوست شدن چیزی چیست؟</td>\n",
       "      <td></td>\n",
       "      <td>dolly-14549</td>\n",
       "      <td>کمپوست شدن یعنی فرایند تجزیه و تحلیل مواد آلی ...</td>\n",
       "    </tr>\n",
       "    <tr>\n",
       "      <th>3</th>\n",
       "      <td>مهمترین چیز در مورد پدر و مادر بودن یک کودک سه...</td>\n",
       "      <td></td>\n",
       "      <td>dolly-14550</td>\n",
       "      <td>مهمترین چیز در مورد پدر و مادر بودن یک کودک سه...</td>\n",
       "    </tr>\n",
       "    <tr>\n",
       "      <th>4</th>\n",
       "      <td>هر یک از موارد زیر را به عنوان یک مکان یا یک چ...</td>\n",
       "      <td></td>\n",
       "      <td>dolly-14551</td>\n",
       "      <td>مکان‌ها: رود آیلند، نیوجرسی، نیویورک.\\nاشیاء: ...</td>\n",
       "    </tr>\n",
       "    <tr>\n",
       "      <th>...</th>\n",
       "      <td>...</td>\n",
       "      <td>...</td>\n",
       "      <td>...</td>\n",
       "      <td>...</td>\n",
       "    </tr>\n",
       "    <tr>\n",
       "      <th>67012</th>\n",
       "      <td>چگونه است که برخی از افراد با ارزش خالص می توا...</td>\n",
       "      <td></td>\n",
       "      <td>dolly-8113</td>\n",
       "      <td>من به عنوان یک موجود هوشمند مجبور هستم که هیچگ...</td>\n",
       "    </tr>\n",
       "    <tr>\n",
       "      <th>67013</th>\n",
       "      <td>کدام یک از رودخانه های زیر در هند است؟</td>\n",
       "      <td></td>\n",
       "      <td>dolly-8114</td>\n",
       "      <td>گنجس (Ganges)</td>\n",
       "    </tr>\n",
       "    <tr>\n",
       "      <th>67014</th>\n",
       "      <td>چرا ازدواج هندی اینقدر طولانی است؟</td>\n",
       "      <td></td>\n",
       "      <td>dolly-8115</td>\n",
       "      <td>زمان مراسم ازدواج هندی بستگی به بسیاری عوامل د...</td>\n",
       "    </tr>\n",
       "    <tr>\n",
       "      <th>67015</th>\n",
       "      <td>یک بادبان از چه قطعاتی تشکیل شده است؟</td>\n",
       "      <td></td>\n",
       "      <td>dolly-8116</td>\n",
       "      <td>یک بادبان معمولاً از چند قطعه فلزی یا کربنی که...</td>\n",
       "    </tr>\n",
       "    <tr>\n",
       "      <th>67016</th>\n",
       "      <td>جاناتان یانگ روانشناس کیست؟</td>\n",
       "      <td>جاناتان یانگ (زاده 29 سپتامبر 1944) یک روانشنا...</td>\n",
       "      <td>dolly-8117</td>\n",
       "      <td>Jonathan Young is a psychologist who became th...</td>\n",
       "    </tr>\n",
       "  </tbody>\n",
       "</table>\n",
       "<p>67017 rows × 4 columns</p>\n",
       "</div>"
      ],
      "text/plain": [
       "                                             instruction  \\\n",
       "0      مشخص کنید که کدام ساز زهی یا بادی چوبی است: بی...   \n",
       "1                                         رابوسراس چیست؟   \n",
       "2                             معنی کمپوست شدن چیزی چیست؟   \n",
       "3      مهمترین چیز در مورد پدر و مادر بودن یک کودک سه...   \n",
       "4      هر یک از موارد زیر را به عنوان یک مکان یا یک چ...   \n",
       "...                                                  ...   \n",
       "67012  چگونه است که برخی از افراد با ارزش خالص می توا...   \n",
       "67013             کدام یک از رودخانه های زیر در هند است؟   \n",
       "67014                 چرا ازدواج هندی اینقدر طولانی است؟   \n",
       "67015              یک بادبان از چه قطعاتی تشکیل شده است؟   \n",
       "67016                        جاناتان یانگ روانشناس کیست؟   \n",
       "\n",
       "                                                   input           id  \\\n",
       "0                                                         dolly-14547   \n",
       "1      Rhaeboceras یک سرده منقرض شده از آمونیت متعلق ...  dolly-14548   \n",
       "2                                                         dolly-14549   \n",
       "3                                                         dolly-14550   \n",
       "4                                                         dolly-14551   \n",
       "...                                                  ...          ...   \n",
       "67012                                                      dolly-8113   \n",
       "67013                                                      dolly-8114   \n",
       "67014                                                      dolly-8115   \n",
       "67015                                                      dolly-8116   \n",
       "67016  جاناتان یانگ (زاده 29 سپتامبر 1944) یک روانشنا...   dolly-8117   \n",
       "\n",
       "                                                  output  \n",
       "0      بیس ترمولو یک ساز زهی است در حالی که راکت یک س...  \n",
       "1      هیچ چیزی دربارهٔ رابوسراس در متن وجود ندارد و ...  \n",
       "2      کمپوست شدن یعنی فرایند تجزیه و تحلیل مواد آلی ...  \n",
       "3      مهمترین چیز در مورد پدر و مادر بودن یک کودک سه...  \n",
       "4      مکان‌ها: رود آیلند، نیوجرسی، نیویورک.\\nاشیاء: ...  \n",
       "...                                                  ...  \n",
       "67012  من به عنوان یک موجود هوشمند مجبور هستم که هیچگ...  \n",
       "67013                                      گنجس (Ganges)  \n",
       "67014  زمان مراسم ازدواج هندی بستگی به بسیاری عوامل د...  \n",
       "67015  یک بادبان معمولاً از چند قطعه فلزی یا کربنی که...  \n",
       "67016  Jonathan Young is a psychologist who became th...  \n",
       "\n",
       "[67017 rows x 4 columns]"
      ]
     },
     "execution_count": 11,
     "metadata": {},
     "output_type": "execute_result"
    }
   ],
   "source": [
    "df"
   ]
  },
  {
   "cell_type": "code",
   "execution_count": 14,
   "metadata": {},
   "outputs": [
    {
     "data": {
      "text/plain": [
       "instruction       مشخص کنید که کدام ساز زهی یا بادی چوبی است: بیس ترمولو، راکت\n",
       "input                                                                         \n",
       "id                                                                 dolly-14547\n",
       "output         بیس ترمولو یک ساز زهی است در حالی که راکت یک ساز بادی چوبی است.\n",
       "Name: 0, dtype: object"
      ]
     },
     "execution_count": 14,
     "metadata": {},
     "output_type": "execute_result"
    }
   ],
   "source": [
    "#print the entire first row without truncating\n",
    "pd.set_option('display.max_colwidth', None)\n",
    "df.iloc[0]"
   ]
  },
  {
   "cell_type": "code",
   "execution_count": null,
   "metadata": {},
   "outputs": [],
   "source": []
  }
 ],
 "metadata": {
  "kernelspec": {
   "display_name": "Python 3",
   "language": "python",
   "name": "python3"
  },
  "language_info": {
   "codemirror_mode": {
    "name": "ipython",
    "version": 3
   },
   "file_extension": ".py",
   "mimetype": "text/x-python",
   "name": "python",
   "nbconvert_exporter": "python",
   "pygments_lexer": "ipython3",
   "version": "3.11.5"
  }
 },
 "nbformat": 4,
 "nbformat_minor": 2
}
