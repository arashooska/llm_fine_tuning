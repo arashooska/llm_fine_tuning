{
 "cells": [
  {
   "cell_type": "code",
   "execution_count": 7,
   "metadata": {},
   "outputs": [],
   "source": [
    "import pandas as pd\n",
    "import re"
   ]
  },
  {
   "cell_type": "code",
   "execution_count": 8,
   "metadata": {},
   "outputs": [],
   "source": [
    "pd.set_option('display.max_rows', None)\n",
    "pd.set_option('display.max_columns', None)\n",
    "pd.set_option('display.max_colwidth', None)"
   ]
  },
  {
   "cell_type": "code",
   "execution_count": 9,
   "metadata": {},
   "outputs": [
    {
     "data": {
      "text/html": [
       "<div>\n",
       "<style scoped>\n",
       "    .dataframe tbody tr th:only-of-type {\n",
       "        vertical-align: middle;\n",
       "    }\n",
       "\n",
       "    .dataframe tbody tr th {\n",
       "        vertical-align: top;\n",
       "    }\n",
       "\n",
       "    .dataframe thead th {\n",
       "        text-align: right;\n",
       "    }\n",
       "</style>\n",
       "<table border=\"1\" class=\"dataframe\">\n",
       "  <thead>\n",
       "    <tr style=\"text-align: right;\">\n",
       "      <th></th>\n",
       "      <th>query</th>\n",
       "      <th>chupa_mistral_response</th>\n",
       "    </tr>\n",
       "  </thead>\n",
       "  <tbody>\n",
       "    <tr>\n",
       "      <th>0</th>\n",
       "      <td>مشخص کنید که کدام ساز زهی یا بادی چوبی است: بیس ترمولو، راکت</td>\n",
       "      <td>مشخص کنید که کدام ساز زهی یا بادی چوبی است: بیس ترمولو، راکت و سی اس اس با استفاده از این کتاب استفاده کنید.\\n\\nاین کتاب برای افرادی است که به راحتی با کد نوشتن و استفاده از تکنولوژی های جدید کار می کنند. این کتاب به شما امکان می دهد که به کد نوشتن با استفاده از این تکنولوژی ها به راحتی بپردازید. این کتاب به شما امکان می دهد که به کد نوشتن با استفاده از این تکنولوژی ها به راحتی بپردازید.\\n\\nاین کتاب به شما امکان می دهد که به کد نوشتن با استفاده از این تکنولوژی ها به راحتی بپردازید. این کتاب به شما امکان می دهد که به کد نوشتن با استفاده از این تکنولوژی ها به راحتی بپردازید.\\n\\nا</td>\n",
       "    </tr>\n",
       "  </tbody>\n",
       "</table>\n",
       "</div>"
      ],
      "text/plain": [
       "                                                           query  \\\n",
       "0  مشخص کنید که کدام ساز زهی یا بادی چوبی است: بیس ترمولو، راکت    \n",
       "\n",
       "                                                                                                                                                                                                                                                                                                                                                                                                                                                                                                                                                                                     chupa_mistral_response  \n",
       "0  مشخص کنید که کدام ساز زهی یا بادی چوبی است: بیس ترمولو، راکت و سی اس اس با استفاده از این کتاب استفاده کنید.\\n\\nاین کتاب برای افرادی است که به راحتی با کد نوشتن و استفاده از تکنولوژی های جدید کار می کنند. این کتاب به شما امکان می دهد که به کد نوشتن با استفاده از این تکنولوژی ها به راحتی بپردازید. این کتاب به شما امکان می دهد که به کد نوشتن با استفاده از این تکنولوژی ها به راحتی بپردازید.\\n\\nاین کتاب به شما امکان می دهد که به کد نوشتن با استفاده از این تکنولوژی ها به راحتی بپردازید. این کتاب به شما امکان می دهد که به کد نوشتن با استفاده از این تکنولوژی ها به راحتی بپردازید.\\n\\nا  "
      ]
     },
     "execution_count": 9,
     "metadata": {},
     "output_type": "execute_result"
    }
   ],
   "source": [
    "df = pd.read_csv(\"/raid/aransari/testing-mist-eos-token.csv\")\n",
    "df"
   ]
  },
  {
   "cell_type": "code",
   "execution_count": 10,
   "metadata": {},
   "outputs": [],
   "source": [
    "def replace_newline_with_space(text):\n",
    "    return re.sub(r'\\n', ' ', text)"
   ]
  },
  {
   "cell_type": "code",
   "execution_count": 11,
   "metadata": {},
   "outputs": [
    {
     "data": {
      "text/html": [
       "<div>\n",
       "<style scoped>\n",
       "    .dataframe tbody tr th:only-of-type {\n",
       "        vertical-align: middle;\n",
       "    }\n",
       "\n",
       "    .dataframe tbody tr th {\n",
       "        vertical-align: top;\n",
       "    }\n",
       "\n",
       "    .dataframe thead th {\n",
       "        text-align: right;\n",
       "    }\n",
       "</style>\n",
       "<table border=\"1\" class=\"dataframe\">\n",
       "  <thead>\n",
       "    <tr style=\"text-align: right;\">\n",
       "      <th></th>\n",
       "      <th>query</th>\n",
       "      <th>chupa_mistral_response</th>\n",
       "    </tr>\n",
       "  </thead>\n",
       "  <tbody>\n",
       "    <tr>\n",
       "      <th>0</th>\n",
       "      <td>مشخص کنید که کدام ساز زهی یا بادی چوبی است: بیس ترمولو، راکت</td>\n",
       "      <td>مشخص کنید که کدام ساز زهی یا بادی چوبی است: بیس ترمولو، راکت و سی اس اس با استفاده از این کتاب استفاده کنید.  این کتاب برای افرادی است که به راحتی با کد نوشتن و استفاده از تکنولوژی های جدید کار می کنند. این کتاب به شما امکان می دهد که به کد نوشتن با استفاده از این تکنولوژی ها به راحتی بپردازید. این کتاب به شما امکان می دهد که به کد نوشتن با استفاده از این تکنولوژی ها به راحتی بپردازید.  این کتاب به شما امکان می دهد که به کد نوشتن با استفاده از این تکنولوژی ها به راحتی بپردازید. این کتاب به شما امکان می دهد که به کد نوشتن با استفاده از این تکنولوژی ها به راحتی بپردازید.  ا</td>\n",
       "    </tr>\n",
       "  </tbody>\n",
       "</table>\n",
       "</div>"
      ],
      "text/plain": [
       "                                                           query  \\\n",
       "0  مشخص کنید که کدام ساز زهی یا بادی چوبی است: بیس ترمولو، راکت    \n",
       "\n",
       "                                                                                                                                                                                                                                                                                                                                                                                                                                                                                                                                                                               chupa_mistral_response  \n",
       "0  مشخص کنید که کدام ساز زهی یا بادی چوبی است: بیس ترمولو، راکت و سی اس اس با استفاده از این کتاب استفاده کنید.  این کتاب برای افرادی است که به راحتی با کد نوشتن و استفاده از تکنولوژی های جدید کار می کنند. این کتاب به شما امکان می دهد که به کد نوشتن با استفاده از این تکنولوژی ها به راحتی بپردازید. این کتاب به شما امکان می دهد که به کد نوشتن با استفاده از این تکنولوژی ها به راحتی بپردازید.  این کتاب به شما امکان می دهد که به کد نوشتن با استفاده از این تکنولوژی ها به راحتی بپردازید. این کتاب به شما امکان می دهد که به کد نوشتن با استفاده از این تکنولوژی ها به راحتی بپردازید.  ا  "
      ]
     },
     "execution_count": 11,
     "metadata": {},
     "output_type": "execute_result"
    }
   ],
   "source": [
    "df = df.map(lambda x: replace_newline_with_space(x) if isinstance(x, str) else x)\n",
    "df"
   ]
  },
  {
   "cell_type": "code",
   "execution_count": 12,
   "metadata": {},
   "outputs": [
    {
     "data": {
      "text/html": [
       "<div>\n",
       "<style scoped>\n",
       "    .dataframe tbody tr th:only-of-type {\n",
       "        vertical-align: middle;\n",
       "    }\n",
       "\n",
       "    .dataframe tbody tr th {\n",
       "        vertical-align: top;\n",
       "    }\n",
       "\n",
       "    .dataframe thead th {\n",
       "        text-align: right;\n",
       "    }\n",
       "</style>\n",
       "<table border=\"1\" class=\"dataframe\">\n",
       "  <thead>\n",
       "    <tr style=\"text-align: right;\">\n",
       "      <th></th>\n",
       "      <th>query</th>\n",
       "      <th>chupa_mistral_response</th>\n",
       "    </tr>\n",
       "  </thead>\n",
       "  <tbody>\n",
       "    <tr>\n",
       "      <th>0</th>\n",
       "      <td>مشخص کنید که کدام ساز زهی یا بادی چوبی است: بیس ترمولو، راکت</td>\n",
       "      <td>مشخص کنید که کدام ساز زهی یا بادی چوبی است: بیس ترمولو، راکت و اسکریپت است که در این پروژه استفاده می شود.\\n\\n## توضیحات کامل\\n\\nبرای این پروژه از ساز زهی بیس ترمولو استفاده می شود که برای این کار از ابزار زیر استفاده می شود:\\n\\n- برای ایجاد پروژه از ابزار زیر استفاده می شود:\\n  - نسخه بیس ترمولو ۱۵.۰.۰\\n  - نسخه نود ۱۲.۰.۰\\n  - نسخه نود ۲.۰.۰\\n  - نسخه نود ۴.۰.۰\\n- برای ایجاد پروژه از ابزار زیر استفاده می شود:\\n  - نسخه بیس ترمولو ۱۵.۰.۰\\n  - نسخه نود ۱۲.۰.۰\\n  - نسخه نود ۲.۰.۰\\n  - نسخه نود ۴.۰.۰\\n- برای ایجاد پروژه از ابزار زیر استفاده می شود:\\n  - نسخه بیس ترمولو ۱۵</td>\n",
       "    </tr>\n",
       "  </tbody>\n",
       "</table>\n",
       "</div>"
      ],
      "text/plain": [
       "                                                           query  \\\n",
       "0  مشخص کنید که کدام ساز زهی یا بادی چوبی است: بیس ترمولو، راکت    \n",
       "\n",
       "                                                                                                                                                                                                                                                                                                                                                                                                                                                                                                                                                                             chupa_mistral_response  \n",
       "0  مشخص کنید که کدام ساز زهی یا بادی چوبی است: بیس ترمولو، راکت و اسکریپت است که در این پروژه استفاده می شود.\\n\\n## توضیحات کامل\\n\\nبرای این پروژه از ساز زهی بیس ترمولو استفاده می شود که برای این کار از ابزار زیر استفاده می شود:\\n\\n- برای ایجاد پروژه از ابزار زیر استفاده می شود:\\n  - نسخه بیس ترمولو ۱۵.۰.۰\\n  - نسخه نود ۱۲.۰.۰\\n  - نسخه نود ۲.۰.۰\\n  - نسخه نود ۴.۰.۰\\n- برای ایجاد پروژه از ابزار زیر استفاده می شود:\\n  - نسخه بیس ترمولو ۱۵.۰.۰\\n  - نسخه نود ۱۲.۰.۰\\n  - نسخه نود ۲.۰.۰\\n  - نسخه نود ۴.۰.۰\\n- برای ایجاد پروژه از ابزار زیر استفاده می شود:\\n  - نسخه بیس ترمولو ۱۵  "
      ]
     },
     "execution_count": 12,
     "metadata": {},
     "output_type": "execute_result"
    }
   ],
   "source": [
    "df1 = pd.read_csv(\"/raid/aransari/testing-mist-eos-token1.csv\")\n",
    "df1"
   ]
  },
  {
   "cell_type": "code",
   "execution_count": 13,
   "metadata": {},
   "outputs": [
    {
     "data": {
      "text/html": [
       "<div>\n",
       "<style scoped>\n",
       "    .dataframe tbody tr th:only-of-type {\n",
       "        vertical-align: middle;\n",
       "    }\n",
       "\n",
       "    .dataframe tbody tr th {\n",
       "        vertical-align: top;\n",
       "    }\n",
       "\n",
       "    .dataframe thead th {\n",
       "        text-align: right;\n",
       "    }\n",
       "</style>\n",
       "<table border=\"1\" class=\"dataframe\">\n",
       "  <thead>\n",
       "    <tr style=\"text-align: right;\">\n",
       "      <th></th>\n",
       "      <th>query</th>\n",
       "      <th>chupa_mistral_response</th>\n",
       "    </tr>\n",
       "  </thead>\n",
       "  <tbody>\n",
       "    <tr>\n",
       "      <th>0</th>\n",
       "      <td>مشخص کنید که کدام ساز زهی یا بادی چوبی است: بیس ترمولو، راکت</td>\n",
       "      <td>مشخص کنید که کدام ساز زهی یا بادی چوبی است: بیس ترمولو، راکت و اسکریپت است که در این پروژه استفاده می شود.  ## توضیحات کامل  برای این پروژه از ساز زهی بیس ترمولو استفاده می شود که برای این کار از ابزار زیر استفاده می شود:  - برای ایجاد پروژه از ابزار زیر استفاده می شود:   - نسخه بیس ترمولو ۱۵.۰.۰   - نسخه نود ۱۲.۰.۰   - نسخه نود ۲.۰.۰   - نسخه نود ۴.۰.۰ - برای ایجاد پروژه از ابزار زیر استفاده می شود:   - نسخه بیس ترمولو ۱۵.۰.۰   - نسخه نود ۱۲.۰.۰   - نسخه نود ۲.۰.۰   - نسخه نود ۴.۰.۰ - برای ایجاد پروژه از ابزار زیر استفاده می شود:   - نسخه بیس ترمولو ۱۵</td>\n",
       "    </tr>\n",
       "  </tbody>\n",
       "</table>\n",
       "</div>"
      ],
      "text/plain": [
       "                                                           query  \\\n",
       "0  مشخص کنید که کدام ساز زهی یا بادی چوبی است: بیس ترمولو، راکت    \n",
       "\n",
       "                                                                                                                                                                                                                                                                                                                                                                                                                                                                                                                                                            chupa_mistral_response  \n",
       "0  مشخص کنید که کدام ساز زهی یا بادی چوبی است: بیس ترمولو، راکت و اسکریپت است که در این پروژه استفاده می شود.  ## توضیحات کامل  برای این پروژه از ساز زهی بیس ترمولو استفاده می شود که برای این کار از ابزار زیر استفاده می شود:  - برای ایجاد پروژه از ابزار زیر استفاده می شود:   - نسخه بیس ترمولو ۱۵.۰.۰   - نسخه نود ۱۲.۰.۰   - نسخه نود ۲.۰.۰   - نسخه نود ۴.۰.۰ - برای ایجاد پروژه از ابزار زیر استفاده می شود:   - نسخه بیس ترمولو ۱۵.۰.۰   - نسخه نود ۱۲.۰.۰   - نسخه نود ۲.۰.۰   - نسخه نود ۴.۰.۰ - برای ایجاد پروژه از ابزار زیر استفاده می شود:   - نسخه بیس ترمولو ۱۵  "
      ]
     },
     "execution_count": 13,
     "metadata": {},
     "output_type": "execute_result"
    }
   ],
   "source": [
    "df1 = df1.map(lambda x: replace_newline_with_space(x) if isinstance(x, str) else x)\n",
    "df1"
   ]
  },
  {
   "cell_type": "code",
   "execution_count": null,
   "metadata": {},
   "outputs": [],
   "source": []
  }
 ],
 "metadata": {
  "kernelspec": {
   "display_name": "Python 3.11.5 ('mvenv': venv)",
   "language": "python",
   "name": "python3"
  },
  "language_info": {
   "codemirror_mode": {
    "name": "ipython",
    "version": 3
   },
   "file_extension": ".py",
   "mimetype": "text/x-python",
   "name": "python",
   "nbconvert_exporter": "python",
   "pygments_lexer": "ipython3",
   "version": "3.11.5"
  },
  "orig_nbformat": 4,
  "vscode": {
   "interpreter": {
    "hash": "eb68426a79c1e2b4e73190e4179756b621e77de86c452815c0dfbb5b6c526ba7"
   }
  }
 },
 "nbformat": 4,
 "nbformat_minor": 2
}
